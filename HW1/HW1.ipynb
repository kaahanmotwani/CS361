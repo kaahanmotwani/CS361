{
 "cells": [
  {
   "cell_type": "code",
   "execution_count": 2,
   "metadata": {},
   "outputs": [],
   "source": [
    "from scipy.io import arff\n",
    "import pandas as pd\n",
    "import numpy as np\n",
    "import matplotlib.pyplot as plt"
   ]
  },
  {
   "cell_type": "markdown",
   "metadata": {},
   "source": [
    "# Question 1"
   ]
  },
  {
   "cell_type": "code",
   "execution_count": 3,
   "metadata": {},
   "outputs": [
    {
     "data": {
      "text/plain": [
       "1.2649110640673518"
      ]
     },
     "execution_count": 3,
     "metadata": {},
     "output_type": "execute_result"
    }
   ],
   "source": [
    "min_dev_set = [5, 5, 5, 3, 2]\n",
    "np.std(min_dev_set)"
   ]
  },
  {
   "cell_type": "code",
   "execution_count": 4,
   "metadata": {},
   "outputs": [
    {
     "data": {
      "text/plain": [
       "3.7416573867739413"
      ]
     },
     "execution_count": 4,
     "metadata": {},
     "output_type": "execute_result"
    }
   ],
   "source": [
    "max_dev_set = [10, 5, 5, 0, 0]\n",
    "np.std(max_dev_set)"
   ]
  },
  {
   "cell_type": "markdown",
   "metadata": {},
   "source": [
    "# Question 3"
   ]
  },
  {
   "cell_type": "code",
   "execution_count": 60,
   "metadata": {},
   "outputs": [],
   "source": [
    "data = arff.loadarff('HW1/NuclearPlants.arff')\n",
    "df = pd.DataFrame(data[0])"
   ]
  },
  {
   "cell_type": "code",
   "execution_count": 61,
   "metadata": {},
   "outputs": [],
   "source": [
    "# Computing IQR for Cost\n",
    "Q1 = df['Cost'].quantile(0.25)\n",
    "Q3 = df['Cost'].quantile(0.75)\n",
    "IQR = Q3 - Q1\n",
    "for num in df['Cost']:\n",
    "    if num > (Q3 + (1.5 * IQR)) or (num < Q1 - (1.5 * IQR)):\n",
    "        print(num)"
   ]
  },
  {
   "cell_type": "code",
   "execution_count": 62,
   "metadata": {},
   "outputs": [],
   "source": [
    "# Computing IQR for MWatts\n",
    "Q1 = df['MWatts'].quantile(0.25)\n",
    "Q3 = df['MWatts'].quantile(0.75)\n",
    "IQR = Q3 - Q1\n",
    "for num in df['MWatts']:\n",
    "    if num > (Q3 + (1.5 * IQR)) or (num < Q1 - (1.5 * IQR)):\n",
    "        print(num)"
   ]
  },
  {
   "cell_type": "code",
   "execution_count": 63,
   "metadata": {},
   "outputs": [
    {
     "name": "stdout",
     "output_type": "stream",
     "text": [
      "70.92\n",
      "71.08\n"
     ]
    }
   ],
   "source": [
    "# Computing IQR for Date\n",
    "Q1 = df['Date'].quantile(0.25)\n",
    "Q3 = df['Date'].quantile(0.75)\n",
    "IQR = Q3 - Q1\n",
    "for num in df['Date']:\n",
    "    if num > (Q3 + (1.5 * IQR)) or (num < Q1 - (1.5 * IQR)):\n",
    "        print(num)"
   ]
  },
  {
   "cell_type": "code",
   "execution_count": 64,
   "metadata": {},
   "outputs": [
    {
     "data": {
      "text/plain": [
       "461.5603124999999"
      ]
     },
     "execution_count": 64,
     "metadata": {},
     "output_type": "execute_result"
    }
   ],
   "source": [
    "df[\"Cost\"].mean()"
   ]
  },
  {
   "cell_type": "code",
   "execution_count": 65,
   "metadata": {},
   "outputs": [
    {
     "data": {
      "text/plain": [
       "170.12066957318333"
      ]
     },
     "execution_count": 65,
     "metadata": {},
     "output_type": "execute_result"
    }
   ],
   "source": [
    "df[\"Cost\"].std()"
   ]
  },
  {
   "cell_type": "code",
   "execution_count": 66,
   "metadata": {},
   "outputs": [
    {
     "data": {
      "text/plain": [
       "0.569735439641486"
      ]
     },
     "execution_count": 66,
     "metadata": {},
     "output_type": "execute_result"
    }
   ],
   "source": [
    "(df[\"Cost\"]/df[\"MWatts\"]).mean()"
   ]
  },
  {
   "cell_type": "code",
   "execution_count": 67,
   "metadata": {},
   "outputs": [
    {
     "data": {
      "text/plain": [
       "0.1871243018960576"
      ]
     },
     "execution_count": 67,
     "metadata": {},
     "output_type": "execute_result"
    }
   ],
   "source": [
    "(df[\"Cost\"]/df[\"MWatts\"]).std()"
   ]
  },
  {
   "cell_type": "code",
   "execution_count": 68,
   "metadata": {},
   "outputs": [],
   "source": [
    "df['Cost/MW'] = df[\"Cost\"]/df[\"MWatts\"]"
   ]
  },
  {
   "cell_type": "code",
   "execution_count": 71,
   "metadata": {},
   "outputs": [
    {
     "data": {
      "image/png": "[encoded data removed]",
      "text/plain": [
       "<Figure size 432x288 with 1 Axes>"
      ]
     },
     "metadata": {
      "needs_background": "light"
     },
     "output_type": "display_data"
    }
   ],
   "source": [
    "hist = (df['Cost/MW']).hist(bins=20)"
   ]
  },
  {
   "cell_type": "markdown",
   "metadata": {},
   "source": [
    "# Question 4"
   ]
  },
  {
   "cell_type": "code",
   "execution_count": 50,
   "metadata": {},
   "outputs": [],
   "source": [
    "df = pd.read_csv('hotdogs.csv', header=None)\n",
    "df.columns = [\"Type\", \"Calories\", \"Sodium\", \"CUnused\"]\n",
    "del df['CUnused']\n"
   ]
  },
  {
   "cell_type": "code",
   "execution_count": 26,
   "metadata": {},
   "outputs": [
    {
     "data": {
      "text/plain": [
       "Text(0, 0.5, 'Count')"
      ]
     },
     "execution_count": 26,
     "metadata": {},
     "output_type": "execute_result"
    },
    {
     "data": {
      "image/png": "[encoded data removed]",
      "text/plain": [
       "<Figure size 432x288 with 1 Axes>"
      ]
     },
     "metadata": {
      "needs_background": "light"
     },
     "output_type": "display_data"
    }
   ],
   "source": [
    "# Class-conditional histogram\n",
    "\n",
    "n_bins = 20\n",
    "\n",
    "tmpdf1 = df[df[\"Type\"]==\"Beef\"]\n",
    "tmpdf2 = df[df[\"Type\"]==\"Meat\"]\n",
    "tmpdf3 = df[df[\"Type\"]==\"Poultry\"]\n",
    "\n",
    "\n",
    "colors = ['orange', 'blue', 'black']\n",
    "labels = ['Beef','Meat','Poultry']\n",
    "x_multi = [tmpdf1[\"Calories\"],tmpdf2[\"Calories\"],tmpdf3[\"Calories\"]]\n",
    "plt.hist(x_multi, n_bins, histtype='bar',color=colors,label=labels)\n",
    "plt.legend(prop={'size': 10})\n",
    "plt.xlabel(\"Calories\")\n",
    "plt.ylabel(\"Count\")"
   ]
  },
  {
   "cell_type": "code",
   "execution_count": 27,
   "metadata": {},
   "outputs": [
    {
     "data": {
      "text/plain": [
       "Text(0, 0.5, 'Count')"
      ]
     },
     "execution_count": 27,
     "metadata": {},
     "output_type": "execute_result"
    },
    {
     "data": {
      "image/png": "[encoded data removed]",
      "text/plain": [
       "<Figure size 432x288 with 1 Axes>"
      ]
     },
     "metadata": {
      "needs_background": "light"
     },
     "output_type": "display_data"
    }
   ],
   "source": [
    "n_bins = 20\n",
    "\n",
    "tmpdf1 = df[df[\"Type\"]==\"Beef\"]\n",
    "tmpdf2 = df[df[\"Type\"]==\"Meat\"]\n",
    "tmpdf3 = df[df[\"Type\"]==\"Poultry\"]\n",
    "\n",
    "\n",
    "colors = ['orange', 'blue', 'black']\n",
    "labels = ['Beef','Meat','Poultry']\n",
    "x_multi = [tmpdf1[\"Sodium\"],tmpdf2[\"Sodium\"],tmpdf3[\"Sodium\"]]\n",
    "plt.hist(x_multi, n_bins, histtype='bar',color=colors,label=labels)\n",
    "plt.legend(prop={'size': 10})\n",
    "plt.xlabel(\"Sodium\")\n",
    "plt.ylabel(\"Count\")"
   ]
  },
  {
   "cell_type": "markdown",
   "metadata": {},
   "source": [
    "# Question 5"
   ]
  },
  {
   "cell_type": "code",
   "execution_count": 49,
   "metadata": {},
   "outputs": [],
   "source": [
    "df = pd.read_csv('mag_ads.csv', header=None)\n",
    "df.columns = [\"Words\", \"SEN\", \"3SYL\", \"MAG\", 'GROUP']"
   ]
  },
  {
   "cell_type": "code",
   "execution_count": 47,
   "metadata": {},
   "outputs": [
    {
     "data": {
      "text/plain": [
       "<matplotlib.axes._subplots.AxesSubplot at 0x7fa7b117ea10>"
      ]
     },
     "execution_count": 47,
     "metadata": {},
     "output_type": "execute_result"
    },
    {
     "data": {
      "image/png": "[encoded data removed]",
      "text/plain": [
       "<Figure size 432x288 with 1 Axes>"
      ]
     },
     "metadata": {
      "needs_background": "light"
     },
     "output_type": "display_data"
    }
   ],
   "source": [
    "df.boxplot(column=['3SYL'], by=['GROUP']) # 3 syllable words grouped by GROUP"
   ]
  },
  {
   "cell_type": "code",
   "execution_count": 48,
   "metadata": {},
   "outputs": [
    {
     "data": {
      "text/plain": [
       "<matplotlib.axes._subplots.AxesSubplot at 0x7fa7b12a6fd0>"
      ]
     },
     "execution_count": 48,
     "metadata": {},
     "output_type": "execute_result"
    },
    {
     "data": {
      "image/png": "[encoded data removed]",
      "text/plain": [
       "<Figure size 432x288 with 1 Axes>"
      ]
     },
     "metadata": {
      "needs_background": "light"
     },
     "output_type": "display_data"
    }
   ],
   "source": [
    "df.boxplot(column=['SEN'], by=['GROUP']) # Number of sentences grouped by GROUP"
   ]
  }
 ],
 "metadata": {
  "kernelspec": {
   "display_name": "Python 3",
   "language": "python",
   "name": "python3"
  },
  "language_info": {
   "codemirror_mode": {
    "name": "ipython",
    "version": 3
   },
   "file_extension": ".py",
   "mimetype": "text/x-python",
   "name": "python",
   "nbconvert_exporter": "python",
   "pygments_lexer": "ipython3",
   "version": "3.7.7"
  }
 },
 "nbformat": 4,
 "nbformat_minor": 4
}
