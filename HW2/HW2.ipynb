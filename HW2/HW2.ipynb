{
 "cells": [
  {
   "cell_type": "code",
   "execution_count": 43,
   "metadata": {},
   "outputs": [],
   "source": [
    "import pandas as pd\n",
    "import matplotlib.pyplot as plt\n",
    "import numpy as np"
   ]
  },
  {
   "cell_type": "markdown",
   "metadata": {},
   "source": [
    "# Question 4"
   ]
  },
  {
   "cell_type": "code",
   "execution_count": 2,
   "metadata": {},
   "outputs": [],
   "source": [
    "df = pd.read_csv('data-hw2.csv')"
   ]
  },
  {
   "cell_type": "code",
   "execution_count": 6,
   "metadata": {},
   "outputs": [
    {
     "data": {
      "text/plain": [
       "Text(0.5, 1.0, 'Scatter plot of Lung Cancer Deaths vs. Cigarette Sales')"
      ]
     },
     "execution_count": 6,
     "metadata": {},
     "output_type": "execute_result"
    },
    {
     "data": {
      "image/png": "[encoded data removed]",
      "text/plain": [
       "<Figure size 576x576 with 1 Axes>"
      ]
     },
     "metadata": {
      "needs_background": "light"
     },
     "output_type": "display_data"
    }
   ],
   "source": [
    "plt.figure(figsize=(8,8))\n",
    "plt.scatter(df['LUNG'], df['CIG'])\n",
    "plt.xlabel(\"LUNG DEATHS\")\n",
    "plt.ylabel(\"CIG SALES\")\n",
    "plt.title(\"Scatter plot of Lung Cancer Deaths vs. Cigarette Sales\")"
   ]
  },
  {
   "cell_type": "code",
   "execution_count": 10,
   "metadata": {},
   "outputs": [
    {
     "data": {
      "text/html": [
       "<div>\n",
       "<style scoped>\n",
       "    .dataframe tbody tr th:only-of-type {\n",
       "        vertical-align: middle;\n",
       "    }\n",
       "\n",
       "    .dataframe tbody tr th {\n",
       "        vertical-align: top;\n",
       "    }\n",
       "\n",
       "    .dataframe thead th {\n",
       "        text-align: right;\n",
       "    }\n",
       "</style>\n",
       "<table border=\"1\" class=\"dataframe\">\n",
       "  <thead>\n",
       "    <tr style=\"text-align: right;\">\n",
       "      <th></th>\n",
       "      <th>CIG</th>\n",
       "      <th>BLAD</th>\n",
       "      <th>LUNG</th>\n",
       "      <th>KID</th>\n",
       "      <th>LEUK</th>\n",
       "    </tr>\n",
       "  </thead>\n",
       "  <tbody>\n",
       "    <tr>\n",
       "      <th>CIG</th>\n",
       "      <td>1.000000</td>\n",
       "      <td>0.703622</td>\n",
       "      <td>0.697403</td>\n",
       "      <td>0.487390</td>\n",
       "      <td>-0.068481</td>\n",
       "    </tr>\n",
       "    <tr>\n",
       "      <th>BLAD</th>\n",
       "      <td>0.703622</td>\n",
       "      <td>1.000000</td>\n",
       "      <td>0.658501</td>\n",
       "      <td>0.358814</td>\n",
       "      <td>0.162157</td>\n",
       "    </tr>\n",
       "    <tr>\n",
       "      <th>LUNG</th>\n",
       "      <td>0.697403</td>\n",
       "      <td>0.658501</td>\n",
       "      <td>1.000000</td>\n",
       "      <td>0.282743</td>\n",
       "      <td>-0.151584</td>\n",
       "    </tr>\n",
       "    <tr>\n",
       "      <th>KID</th>\n",
       "      <td>0.487390</td>\n",
       "      <td>0.358814</td>\n",
       "      <td>0.282743</td>\n",
       "      <td>1.000000</td>\n",
       "      <td>0.188713</td>\n",
       "    </tr>\n",
       "    <tr>\n",
       "      <th>LEUK</th>\n",
       "      <td>-0.068481</td>\n",
       "      <td>0.162157</td>\n",
       "      <td>-0.151584</td>\n",
       "      <td>0.188713</td>\n",
       "      <td>1.000000</td>\n",
       "    </tr>\n",
       "  </tbody>\n",
       "</table>\n",
       "</div>"
      ],
      "text/plain": [
       "           CIG      BLAD      LUNG       KID      LEUK\n",
       "CIG   1.000000  0.703622  0.697403  0.487390 -0.068481\n",
       "BLAD  0.703622  1.000000  0.658501  0.358814  0.162157\n",
       "LUNG  0.697403  0.658501  1.000000  0.282743 -0.151584\n",
       "KID   0.487390  0.358814  0.282743  1.000000  0.188713\n",
       "LEUK -0.068481  0.162157 -0.151584  0.188713  1.000000"
      ]
     },
     "execution_count": 10,
     "metadata": {},
     "output_type": "execute_result"
    }
   ],
   "source": [
    "df.corr()"
   ]
  },
  {
   "cell_type": "code",
   "execution_count": 12,
   "metadata": {},
   "outputs": [],
   "source": [
    "df_clean = df[df[\"CIG\"] < 35]"
   ]
  },
  {
   "cell_type": "code",
   "execution_count": 13,
   "metadata": {},
   "outputs": [
    {
     "data": {
      "text/plain": [
       "Text(0.5, 1.0, 'Scatter plot of Lung Cancer Deaths vs. Cigarette Sales')"
      ]
     },
     "execution_count": 13,
     "metadata": {},
     "output_type": "execute_result"
    },
    {
     "data": {
      "image/png": "[encoded data removed]",
      "text/plain": [
       "<Figure size 576x576 with 1 Axes>"
      ]
     },
     "metadata": {
      "needs_background": "light"
     },
     "output_type": "display_data"
    }
   ],
   "source": [
    "plt.figure(figsize=(8,8))\n",
    "plt.scatter(df_clean['LUNG'], df_clean['CIG'])\n",
    "plt.xlabel(\"LUNG DEATHS\")\n",
    "plt.ylabel(\"CIG SALES\")\n",
    "plt.title(\"Scatter plot of Lung Cancer Deaths vs. Cigarette Sales\")"
   ]
  },
  {
   "cell_type": "code",
   "execution_count": 14,
   "metadata": {},
   "outputs": [
    {
     "data": {
      "text/html": [
       "<div>\n",
       "<style scoped>\n",
       "    .dataframe tbody tr th:only-of-type {\n",
       "        vertical-align: middle;\n",
       "    }\n",
       "\n",
       "    .dataframe tbody tr th {\n",
       "        vertical-align: top;\n",
       "    }\n",
       "\n",
       "    .dataframe thead th {\n",
       "        text-align: right;\n",
       "    }\n",
       "</style>\n",
       "<table border=\"1\" class=\"dataframe\">\n",
       "  <thead>\n",
       "    <tr style=\"text-align: right;\">\n",
       "      <th></th>\n",
       "      <th>CIG</th>\n",
       "      <th>BLAD</th>\n",
       "      <th>LUNG</th>\n",
       "      <th>KID</th>\n",
       "      <th>LEUK</th>\n",
       "    </tr>\n",
       "  </thead>\n",
       "  <tbody>\n",
       "    <tr>\n",
       "      <th>CIG</th>\n",
       "      <td>1.000000</td>\n",
       "      <td>0.607626</td>\n",
       "      <td>0.714480</td>\n",
       "      <td>0.579080</td>\n",
       "      <td>-0.101009</td>\n",
       "    </tr>\n",
       "    <tr>\n",
       "      <th>BLAD</th>\n",
       "      <td>0.607626</td>\n",
       "      <td>1.000000</td>\n",
       "      <td>0.640490</td>\n",
       "      <td>0.370746</td>\n",
       "      <td>0.183221</td>\n",
       "    </tr>\n",
       "    <tr>\n",
       "      <th>LUNG</th>\n",
       "      <td>0.714480</td>\n",
       "      <td>0.640490</td>\n",
       "      <td>1.000000</td>\n",
       "      <td>0.266764</td>\n",
       "      <td>-0.172279</td>\n",
       "    </tr>\n",
       "    <tr>\n",
       "      <th>KID</th>\n",
       "      <td>0.579080</td>\n",
       "      <td>0.370746</td>\n",
       "      <td>0.266764</td>\n",
       "      <td>1.000000</td>\n",
       "      <td>0.184801</td>\n",
       "    </tr>\n",
       "    <tr>\n",
       "      <th>LEUK</th>\n",
       "      <td>-0.101009</td>\n",
       "      <td>0.183221</td>\n",
       "      <td>-0.172279</td>\n",
       "      <td>0.184801</td>\n",
       "      <td>1.000000</td>\n",
       "    </tr>\n",
       "  </tbody>\n",
       "</table>\n",
       "</div>"
      ],
      "text/plain": [
       "           CIG      BLAD      LUNG       KID      LEUK\n",
       "CIG   1.000000  0.607626  0.714480  0.579080 -0.101009\n",
       "BLAD  0.607626  1.000000  0.640490  0.370746  0.183221\n",
       "LUNG  0.714480  0.640490  1.000000  0.266764 -0.172279\n",
       "KID   0.579080  0.370746  0.266764  1.000000  0.184801\n",
       "LEUK -0.101009  0.183221 -0.172279  0.184801  1.000000"
      ]
     },
     "execution_count": 14,
     "metadata": {},
     "output_type": "execute_result"
    }
   ],
   "source": [
    "df_clean.corr()"
   ]
  },
  {
   "cell_type": "markdown",
   "metadata": {},
   "source": [
    "# Question 5"
   ]
  },
  {
   "cell_type": "code",
   "execution_count": 39,
   "metadata": {},
   "outputs": [
    {
     "data": {
      "text/html": [
       "<div>\n",
       "<style scoped>\n",
       "    .dataframe tbody tr th:only-of-type {\n",
       "        vertical-align: middle;\n",
       "    }\n",
       "\n",
       "    .dataframe tbody tr th {\n",
       "        vertical-align: top;\n",
       "    }\n",
       "\n",
       "    .dataframe thead th {\n",
       "        text-align: right;\n",
       "    }\n",
       "</style>\n",
       "<table border=\"1\" class=\"dataframe\">\n",
       "  <thead>\n",
       "    <tr style=\"text-align: right;\">\n",
       "      <th></th>\n",
       "      <th>Date</th>\n",
       "      <th>KO Adj Close</th>\n",
       "      <th>PEP Adj Close</th>\n",
       "    </tr>\n",
       "  </thead>\n",
       "  <tbody>\n",
       "    <tr>\n",
       "      <th>0</th>\n",
       "      <td>2020-01-02</td>\n",
       "      <td>54.021152</td>\n",
       "      <td>132.914230</td>\n",
       "    </tr>\n",
       "    <tr>\n",
       "      <th>1</th>\n",
       "      <td>2020-01-03</td>\n",
       "      <td>53.726437</td>\n",
       "      <td>132.728302</td>\n",
       "    </tr>\n",
       "    <tr>\n",
       "      <th>2</th>\n",
       "      <td>2020-01-06</td>\n",
       "      <td>53.706787</td>\n",
       "      <td>133.237152</td>\n",
       "    </tr>\n",
       "    <tr>\n",
       "      <th>3</th>\n",
       "      <td>2020-01-07</td>\n",
       "      <td>53.294189</td>\n",
       "      <td>131.142944</td>\n",
       "    </tr>\n",
       "    <tr>\n",
       "      <th>4</th>\n",
       "      <td>2020-01-08</td>\n",
       "      <td>53.392426</td>\n",
       "      <td>131.818192</td>\n",
       "    </tr>\n",
       "    <tr>\n",
       "      <th>...</th>\n",
       "      <td>...</td>\n",
       "      <td>...</td>\n",
       "      <td>...</td>\n",
       "    </tr>\n",
       "    <tr>\n",
       "      <th>169</th>\n",
       "      <td>2020-09-02</td>\n",
       "      <td>51.189999</td>\n",
       "      <td>142.266998</td>\n",
       "    </tr>\n",
       "    <tr>\n",
       "      <th>170</th>\n",
       "      <td>2020-09-03</td>\n",
       "      <td>50.480000</td>\n",
       "      <td>139.369995</td>\n",
       "    </tr>\n",
       "    <tr>\n",
       "      <th>171</th>\n",
       "      <td>2020-09-04</td>\n",
       "      <td>51.040001</td>\n",
       "      <td>138.759995</td>\n",
       "    </tr>\n",
       "    <tr>\n",
       "      <th>172</th>\n",
       "      <td>2020-09-08</td>\n",
       "      <td>49.810001</td>\n",
       "      <td>135.550003</td>\n",
       "    </tr>\n",
       "    <tr>\n",
       "      <th>173</th>\n",
       "      <td>2020-09-09</td>\n",
       "      <td>50.189999</td>\n",
       "      <td>137.110001</td>\n",
       "    </tr>\n",
       "  </tbody>\n",
       "</table>\n",
       "<p>174 rows × 3 columns</p>\n",
       "</div>"
      ],
      "text/plain": [
       "           Date  KO Adj Close  PEP Adj Close\n",
       "0    2020-01-02     54.021152     132.914230\n",
       "1    2020-01-03     53.726437     132.728302\n",
       "2    2020-01-06     53.706787     133.237152\n",
       "3    2020-01-07     53.294189     131.142944\n",
       "4    2020-01-08     53.392426     131.818192\n",
       "..          ...           ...            ...\n",
       "169  2020-09-02     51.189999     142.266998\n",
       "170  2020-09-03     50.480000     139.369995\n",
       "171  2020-09-04     51.040001     138.759995\n",
       "172  2020-09-08     49.810001     135.550003\n",
       "173  2020-09-09     50.189999     137.110001\n",
       "\n",
       "[174 rows x 3 columns]"
      ]
     },
     "execution_count": 39,
     "metadata": {},
     "output_type": "execute_result"
    }
   ],
   "source": [
    "df_ko = pd.read_csv('KO.csv')\n",
    "df_pep = pd.read_csv('PEP.csv')\n",
    "del df_ko['Open'], df_ko['High'], df_ko['Low'], df_ko['Close'], df_ko['Volume']\n",
    "del df_pep['Open'], df_pep['High'], df_pep['Low'], df_pep['Close'], df_pep['Volume']\n",
    "df_comb = pd.DataFrame(columns=[\"Date\", \"KO Adj Close\", \"PEP Adj Close\"])\n",
    "df_comb[\"Date\"] = df_ko[\"Date\"]\n",
    "df_comb[\"KO Adj Close\"] = df_ko[\"Adj Close\"]\n",
    "df_comb[\"PEP Adj Close\"] = df_pep[\"Adj Close\"]\n",
    "df_comb"
   ]
  },
  {
   "cell_type": "code",
   "execution_count": 40,
   "metadata": {},
   "outputs": [
    {
     "data": {
      "text/html": [
       "<div>\n",
       "<style scoped>\n",
       "    .dataframe tbody tr th:only-of-type {\n",
       "        vertical-align: middle;\n",
       "    }\n",
       "\n",
       "    .dataframe tbody tr th {\n",
       "        vertical-align: top;\n",
       "    }\n",
       "\n",
       "    .dataframe thead th {\n",
       "        text-align: right;\n",
       "    }\n",
       "</style>\n",
       "<table border=\"1\" class=\"dataframe\">\n",
       "  <thead>\n",
       "    <tr style=\"text-align: right;\">\n",
       "      <th></th>\n",
       "      <th>KO Adj Close</th>\n",
       "      <th>PEP Adj Close</th>\n",
       "    </tr>\n",
       "  </thead>\n",
       "  <tbody>\n",
       "    <tr>\n",
       "      <th>KO Adj Close</th>\n",
       "      <td>1.000000</td>\n",
       "      <td>0.722468</td>\n",
       "    </tr>\n",
       "    <tr>\n",
       "      <th>PEP Adj Close</th>\n",
       "      <td>0.722468</td>\n",
       "      <td>1.000000</td>\n",
       "    </tr>\n",
       "  </tbody>\n",
       "</table>\n",
       "</div>"
      ],
      "text/plain": [
       "               KO Adj Close  PEP Adj Close\n",
       "KO Adj Close       1.000000       0.722468\n",
       "PEP Adj Close      0.722468       1.000000"
      ]
     },
     "execution_count": 40,
     "metadata": {},
     "output_type": "execute_result"
    }
   ],
   "source": [
    "df_comb.corr()"
   ]
  },
  {
   "cell_type": "code",
   "execution_count": 57,
   "metadata": {},
   "outputs": [
    {
     "data": {
      "text/plain": [
       "(100.0, 145.0)"
      ]
     },
     "execution_count": 57,
     "metadata": {},
     "output_type": "execute_result"
    },
    {
     "data": {
      "image/png": "[encoded data removed]",
      "text/plain": [
       "<Figure size 576x576 with 1 Axes>"
      ]
     },
     "metadata": {
      "needs_background": "light"
     },
     "output_type": "display_data"
    }
   ],
   "source": [
    "x_vals = np.array([np.min(df_comb[\"KO Adj Close\"]), np.max(df_comb[\"PEP Adj Close\"])])\n",
    "x_vals_standardized = (x_vals-df_comb[\"KO Adj Close\"].mean())/df_comb[\"KO Adj Close\"].std(ddof=0)\n",
    "y_predictions_standardized = df_comb.corr()[\"KO Adj Close\"][\"PEP Adj Close\"]*x_vals_standardized\n",
    "y_predictions = y_predictions_standardized*df_comb[\"PEP Adj Close\"].std(ddof=0)+df_comb[\"PEP Adj Close\"].mean()\n",
    "plt.figure(figsize=(8,8))\n",
    "plt.scatter(df_comb['KO Adj Close'], df_comb['PEP Adj Close'])\n",
    "plt.xlabel(\"KO Daily Adj Close Price\")\n",
    "plt.ylabel(\"PEP Daily Adj Close Price\")\n",
    "plt.title(\"Scatter plot of KO Daily Adj Close Price vs. PEP Daily Adj Close Price with prediction line\")\n",
    "plt.plot(x_vals, y_predictions, 'r', linewidth=3)\n",
    "plt.xlim(35, 60)\n",
    "plt.ylim(100, 145)"
   ]
  },
  {
   "cell_type": "code",
   "execution_count": null,
   "metadata": {},
   "outputs": [],
   "source": []
  }
 ],
 "metadata": {
  "kernelspec": {
   "display_name": "Python 3",
   "language": "python",
   "name": "python3"
  },
  "language_info": {
   "codemirror_mode": {
    "name": "ipython",
    "version": 3
   },
   "file_extension": ".py",
   "mimetype": "text/x-python",
   "name": "python",
   "nbconvert_exporter": "python",
   "pygments_lexer": "ipython3",
   "version": "3.7.7"
  }
 },
 "nbformat": 4,
 "nbformat_minor": 4
}
